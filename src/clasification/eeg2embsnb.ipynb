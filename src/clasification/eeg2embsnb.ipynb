{
 "cells": [
  {
   "cell_type": "code",
   "execution_count": 1,
   "metadata": {},
   "outputs": [
    {
     "name": "stderr",
     "output_type": "stream",
     "text": [
      "/home/mario/Desktop/zuco-dataset-preprocessing-scripts/venv/lib/python3.10/site-packages/tqdm/auto.py:21: TqdmWarning: IProgress not found. Please update jupyter and ipywidgets. See https://ipywidgets.readthedocs.io/en/stable/user_install.html\n",
      "  from .autonotebook import tqdm as notebook_tqdm\n"
     ]
    },
    {
     "name": "stdout",
     "output_type": "stream",
     "text": [
      "Get data\n"
     ]
    }
   ],
   "source": [
    "import torch\n",
    "import torch.nn as nn\n",
    "from utils.preprocessing import *\n",
    "from utils.EEGToEmbeddingModel import *\n",
    "from utils.EEGTextDataset import *\n",
    "import pickle\n",
    "import os\n",
    "\n",
    "csvs_path = \"/home/mario/Desktop/zuco-dataset-preprocessing-scripts/data/matfiles_csv/\"\n",
    "\n",
    "#eeg_data, labels = load_data(\"/home/mario/Desktop/zuco-dataset-preprocessing-scripts/data/matfiles_csv/resultsYAC_NR.csv\")\n",
    "print(\"Get data\")\n",
    "eeg_data, labels = load_all_data(csvs_path)\n",
    "x_train, y_train, x_test, y_test = train_test_split_eeg_data(eeg_data, labels)\n",
    "dataloader, word_embeddings = get_data_loader(x_train, y_train)\n"
   ]
  },
  {
   "cell_type": "code",
   "execution_count": 2,
   "metadata": {},
   "outputs": [
    {
     "name": "stdout",
     "output_type": "stream",
     "text": [
      "Training...\n",
      "Epoch: 0, MSE Loss: 34.47368240356445\n",
      "Epoch: 1, MSE Loss: 17.312015533447266\n"
     ]
    }
   ],
   "source": [
    "print(\"Training...\")\n",
    "model = train_model_to_embedding(\n",
    "    dataloader, \n",
    "    eeg_data, \n",
    "    word_embeddings,\n",
    "    2\n",
    ")"
   ]
  },
  {
   "cell_type": "code",
   "execution_count": 3,
   "metadata": {},
   "outputs": [
    {
     "name": "stdout",
     "output_type": "stream",
     "text": [
      "Testing...\n",
      "Init faiss index - Total: 57\n",
      "Count: 243\n",
      "Success count: 4\n",
      "Accuracy: 0.01646090534979424\n"
     ]
    }
   ],
   "source": [
    "print(\"Testing...\")\n",
    "dataloader_test, word_embeddings_test = get_data_loader(x_test, y_test)\n",
    "unique_labels_embeddings, unique_labels = get_unique_labels_embedddings(y_test, word_embeddings_test)\n",
    "\n",
    "eval_model_as_classifier(model, x_test, y_test, unique_labels_embeddings, unique_labels)\n",
    "\n",
    "# torch.save(model, 'eeg_2_embeddings_model.pth')\n",
    "# # model_file = open(\"eeg_2_embeddings_model\", 'wb')\n",
    "# # pickle.dump(model, model_file)\n",
    "# # model_file.close()\n",
    "\n",
    "# word_file = open(\"word_embeddings\", 'wb')\n",
    "# pickle.dump(word_embeddings, word_file)\n",
    "# word_file.close()"
   ]
  }
 ],
 "metadata": {
  "kernelspec": {
   "display_name": "venv",
   "language": "python",
   "name": "python3"
  },
  "language_info": {
   "codemirror_mode": {
    "name": "ipython",
    "version": 3
   },
   "file_extension": ".py",
   "mimetype": "text/x-python",
   "name": "python",
   "nbconvert_exporter": "python",
   "pygments_lexer": "ipython3",
   "version": "3.10.12"
  }
 },
 "nbformat": 4,
 "nbformat_minor": 2
}
