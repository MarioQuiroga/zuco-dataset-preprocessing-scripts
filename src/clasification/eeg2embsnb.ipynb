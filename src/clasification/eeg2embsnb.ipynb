{
 "cells": [
  {
   "cell_type": "markdown",
   "metadata": {},
   "source": [
    "##### Imports"
   ]
  },
  {
   "cell_type": "code",
   "execution_count": 1,
   "metadata": {},
   "outputs": [
    {
     "name": "stderr",
     "output_type": "stream",
     "text": [
      "/home/mario/Desktop/zuco-dataset-preprocessing-scripts/venv/lib/python3.10/site-packages/tqdm/auto.py:21: TqdmWarning: IProgress not found. Please update jupyter and ipywidgets. See https://ipywidgets.readthedocs.io/en/stable/user_install.html\n",
      "  from .autonotebook import tqdm as notebook_tqdm\n"
     ]
    }
   ],
   "source": [
    "import torch\n",
    "import torch.nn as nn\n",
    "from utils.preprocessing import *\n",
    "from utils.EEGToEmbeddingModel import *\n",
    "from utils.EEGTextDataset import *\n",
    "import pickle\n",
    "import os\n",
    "from sklearn.utils import shuffle"
   ]
  },
  {
   "cell_type": "markdown",
   "metadata": {},
   "source": [
    "##### Preprocess Data"
   ]
  },
  {
   "cell_type": "code",
   "execution_count": 11,
   "metadata": {},
   "outputs": [
    {
     "name": "stdout",
     "output_type": "stream",
     "text": [
      "Getting data...\n"
     ]
    },
    {
     "ename": "KeyboardInterrupt",
     "evalue": "",
     "output_type": "error",
     "traceback": [
      "\u001b[0;31m---------------------------------------------------------------------------\u001b[0m",
      "\u001b[0;31mKeyboardInterrupt\u001b[0m                         Traceback (most recent call last)",
      "Cell \u001b[0;32mIn[11], line 8\u001b[0m\n\u001b[1;32m      5\u001b[0m x_train, y_train, x_test, y_test \u001b[38;5;241m=\u001b[39m train_test_split_eeg_data(eeg_data, labels)\n\u001b[1;32m      7\u001b[0m word_embeddings \u001b[38;5;241m=\u001b[39m get_embeddings(y_train)\n\u001b[0;32m----> 8\u001b[0m dataloader \u001b[38;5;241m=\u001b[39m \u001b[43mget_data_loader\u001b[49m(x_train, y_train, word_embeddings)\n\u001b[1;32m     10\u001b[0m word_embeddings_test \u001b[38;5;241m=\u001b[39m get_embeddings(y_test)\n\u001b[1;32m     11\u001b[0m dataloader_test \u001b[38;5;241m=\u001b[39m get_data_loader(x_test, y_test, word_embeddings_test)\n",
      "Cell \u001b[0;32mIn[11], line 8\u001b[0m\n\u001b[1;32m      5\u001b[0m x_train, y_train, x_test, y_test \u001b[38;5;241m=\u001b[39m train_test_split_eeg_data(eeg_data, labels)\n\u001b[1;32m      7\u001b[0m word_embeddings \u001b[38;5;241m=\u001b[39m get_embeddings(y_train)\n\u001b[0;32m----> 8\u001b[0m dataloader \u001b[38;5;241m=\u001b[39m \u001b[43mget_data_loader\u001b[49m(x_train, y_train, word_embeddings)\n\u001b[1;32m     10\u001b[0m word_embeddings_test \u001b[38;5;241m=\u001b[39m get_embeddings(y_test)\n\u001b[1;32m     11\u001b[0m dataloader_test \u001b[38;5;241m=\u001b[39m get_data_loader(x_test, y_test, word_embeddings_test)\n",
      "File \u001b[0;32m_pydevd_bundle/pydevd_cython.pyx:1457\u001b[0m, in \u001b[0;36m_pydevd_bundle.pydevd_cython.SafeCallWrapper.__call__\u001b[0;34m()\u001b[0m\n",
      "File \u001b[0;32m_pydevd_bundle/pydevd_cython.pyx:701\u001b[0m, in \u001b[0;36m_pydevd_bundle.pydevd_cython.PyDBFrame.trace_dispatch\u001b[0;34m()\u001b[0m\n",
      "File \u001b[0;32m_pydevd_bundle/pydevd_cython.pyx:1152\u001b[0m, in \u001b[0;36m_pydevd_bundle.pydevd_cython.PyDBFrame.trace_dispatch\u001b[0;34m()\u001b[0m\n",
      "File \u001b[0;32m_pydevd_bundle/pydevd_cython.pyx:1135\u001b[0m, in \u001b[0;36m_pydevd_bundle.pydevd_cython.PyDBFrame.trace_dispatch\u001b[0;34m()\u001b[0m\n",
      "File \u001b[0;32m_pydevd_bundle/pydevd_cython.pyx:312\u001b[0m, in \u001b[0;36m_pydevd_bundle.pydevd_cython.PyDBFrame.do_wait_suspend\u001b[0;34m()\u001b[0m\n",
      "File \u001b[0;32m~/Desktop/zuco-dataset-preprocessing-scripts/venv/lib/python3.10/site-packages/debugpy/_vendored/pydevd/pydevd.py:2070\u001b[0m, in \u001b[0;36mPyDB.do_wait_suspend\u001b[0;34m(self, thread, frame, event, arg, exception_type)\u001b[0m\n\u001b[1;32m   2067\u001b[0m             from_this_thread\u001b[38;5;241m.\u001b[39mappend(frame_custom_thread_id)\n\u001b[1;32m   2069\u001b[0m     \u001b[38;5;28;01mwith\u001b[39;00m \u001b[38;5;28mself\u001b[39m\u001b[38;5;241m.\u001b[39m_threads_suspended_single_notification\u001b[38;5;241m.\u001b[39mnotify_thread_suspended(thread_id, thread, stop_reason):\n\u001b[0;32m-> 2070\u001b[0m         keep_suspended \u001b[38;5;241m=\u001b[39m \u001b[38;5;28;43mself\u001b[39;49m\u001b[38;5;241;43m.\u001b[39;49m\u001b[43m_do_wait_suspend\u001b[49m\u001b[43m(\u001b[49m\u001b[43mthread\u001b[49m\u001b[43m,\u001b[49m\u001b[43m \u001b[49m\u001b[43mframe\u001b[49m\u001b[43m,\u001b[49m\u001b[43m \u001b[49m\u001b[43mevent\u001b[49m\u001b[43m,\u001b[49m\u001b[43m \u001b[49m\u001b[43marg\u001b[49m\u001b[43m,\u001b[49m\u001b[43m \u001b[49m\u001b[43msuspend_type\u001b[49m\u001b[43m,\u001b[49m\u001b[43m \u001b[49m\u001b[43mfrom_this_thread\u001b[49m\u001b[43m,\u001b[49m\u001b[43m \u001b[49m\u001b[43mframes_tracker\u001b[49m\u001b[43m)\u001b[49m\n\u001b[1;32m   2072\u001b[0m frames_list \u001b[38;5;241m=\u001b[39m \u001b[38;5;28;01mNone\u001b[39;00m\n\u001b[1;32m   2074\u001b[0m \u001b[38;5;28;01mif\u001b[39;00m keep_suspended:\n\u001b[1;32m   2075\u001b[0m     \u001b[38;5;66;03m# This means that we should pause again after a set next statement.\u001b[39;00m\n",
      "File \u001b[0;32m~/Desktop/zuco-dataset-preprocessing-scripts/venv/lib/python3.10/site-packages/debugpy/_vendored/pydevd/pydevd.py:2106\u001b[0m, in \u001b[0;36mPyDB._do_wait_suspend\u001b[0;34m(self, thread, frame, event, arg, suspend_type, from_this_thread, frames_tracker)\u001b[0m\n\u001b[1;32m   2103\u001b[0m         \u001b[38;5;28mself\u001b[39m\u001b[38;5;241m.\u001b[39m_call_input_hook()\n\u001b[1;32m   2105\u001b[0m     \u001b[38;5;28mself\u001b[39m\u001b[38;5;241m.\u001b[39mprocess_internal_commands()\n\u001b[0;32m-> 2106\u001b[0m     \u001b[43mtime\u001b[49m\u001b[38;5;241;43m.\u001b[39;49m\u001b[43msleep\u001b[49m\u001b[43m(\u001b[49m\u001b[38;5;241;43m0.01\u001b[39;49m\u001b[43m)\u001b[49m\n\u001b[1;32m   2108\u001b[0m \u001b[38;5;28mself\u001b[39m\u001b[38;5;241m.\u001b[39mcancel_async_evaluation(get_current_thread_id(thread), \u001b[38;5;28mstr\u001b[39m(\u001b[38;5;28mid\u001b[39m(frame)))\n\u001b[1;32m   2110\u001b[0m \u001b[38;5;66;03m# process any stepping instructions\u001b[39;00m\n",
      "\u001b[0;31mKeyboardInterrupt\u001b[0m: "
     ]
    }
   ],
   "source": [
    "csvs_path = \"/home/mario/Desktop/zuco-dataset-preprocessing-scripts/data/matfiles_csv/\"\n",
    "\n",
    "print(\"Getting data...\")\n",
    "eeg_data, labels = load_all_data(csvs_path)\n",
    "x_train, y_train, x_test, y_test = train_test_split_eeg_data(eeg_data, labels)\n",
    "\n",
    "word_embeddings = get_embeddings(y_train)\n",
    "dataloader = get_data_loader(x_train, y_train, word_embeddings)\n",
    "\n",
    "word_embeddings_test = get_embeddings(y_test)\n",
    "dataloader_test = get_data_loader(x_test, y_test, word_embeddings_test)\n",
    "print(f'Train data: {len(x_train)} - Test data: {len(x_test)}')\n",
    "\n",
    "word_file = open(\"word_embeddings\", 'wb')\n",
    "pickle.dump(word_embeddings, word_file)\n",
    "word_file.close()\n",
    "\n",
    "word_file_test = open(\"word_embeddings_test\", 'wb')\n",
    "pickle.dump(word_embeddings_test, word_file_test)\n",
    "word_file_test.close()\n",
    "\n",
    "print(y_train[100], y_test[100])\n",
    "print(\"Saved data\")"
   ]
  },
  {
   "cell_type": "code",
   "execution_count": null,
   "metadata": {},
   "outputs": [],
   "source": [
    "print(y_train[100], y_test[100])\n",
    "ttt = []\n",
    "for i in range(len(y_test)):\n",
    "    if y_test[i] not in ttt:\n",
    "        ttt.append(y_test[i])\n",
    "print(\"Saved data\")"
   ]
  },
  {
   "cell_type": "markdown",
   "metadata": {},
   "source": [
    "##### Get preprocesed data"
   ]
  },
  {
   "cell_type": "code",
   "execution_count": 2,
   "metadata": {},
   "outputs": [
    {
     "name": "stdout",
     "output_type": "stream",
     "text": [
      "Getting data...\n",
      "Train data: 41110 - Test data: 11373\n",
      "chief local\n"
     ]
    }
   ],
   "source": [
    "csvs_path = \"/home/mario/Desktop/zuco-dataset-preprocessing-scripts/data/matfiles_csv/\"\n",
    "print(\"Getting data...\")\n",
    "eeg_data, labels = load_all_data(csvs_path)\n",
    "x_train, y_train, x_test, y_test = train_test_split_eeg_data(eeg_data, labels)\n",
    "\n",
    "word_file = open(\"word_embeddings\", 'rb')\n",
    "word_embeddings = pickle.load(word_file)\n",
    "word_file.close()\n",
    "\n",
    "word_file_test = open(\"word_embeddings_test\", 'rb')\n",
    "word_embeddings_test = pickle.load(word_file_test)\n",
    "word_file_test.close()\n",
    "x_train, y_train, word_embeddings = shuffle(x_train, y_train, word_embeddings)\n",
    "dataloader = get_data_loader(x_train, y_train, word_embeddings)\n",
    "dataloader_test = get_data_loader(x_test, y_test, word_embeddings_test)\n",
    "print(f'Train data: {len(x_train)} - Test data: {len(x_test)}')\n",
    "print(y_train[100], y_test[100])"
   ]
  },
  {
   "cell_type": "markdown",
   "metadata": {},
   "source": [
    "##### Train data"
   ]
  },
  {
   "cell_type": "code",
   "execution_count": 3,
   "metadata": {},
   "outputs": [
    {
     "name": "stdout",
     "output_type": "stream",
     "text": [
      "Training...\n",
      "Train data: 41110 - Test data: 11373\n",
      "Epoch: 0, MSE Loss: 0.0027538349386304617\n",
      "Epoch: 1, MSE Loss: 0.003146716160699725\n",
      "Epoch: 2, MSE Loss: 0.001656564767472446\n",
      "Epoch: 3, MSE Loss: 0.0012371783377602696\n",
      "Epoch: 4, MSE Loss: 0.0023324734065681696\n",
      "Epoch: 5, MSE Loss: 0.0026398247573524714\n",
      "Epoch: 6, MSE Loss: 0.0022053963039070368\n",
      "Epoch: 7, MSE Loss: 0.0023984501603990793\n",
      "Epoch: 8, MSE Loss: 0.003395641455426812\n",
      "Epoch: 9, MSE Loss: 0.0031855404376983643\n",
      "Epoch: 10, MSE Loss: 0.0032779492903500795\n",
      "Epoch: 11, MSE Loss: 0.002881944179534912\n",
      "Epoch: 12, MSE Loss: 0.0024401627015322447\n",
      "Epoch: 13, MSE Loss: 0.003114757128059864\n",
      "Epoch: 14, MSE Loss: 0.002402170095592737\n",
      "Epoch: 15, MSE Loss: 0.0027442900463938713\n",
      "Epoch: 16, MSE Loss: 0.0021476366091519594\n",
      "Epoch: 17, MSE Loss: 0.00313761830329895\n",
      "Epoch: 18, MSE Loss: 0.002730022883042693\n",
      "Epoch: 19, MSE Loss: 0.0036730929277837276\n",
      "Epoch: 20, MSE Loss: 0.002304564928635955\n",
      "Epoch: 21, MSE Loss: 0.0024330804590135813\n",
      "Epoch: 22, MSE Loss: 0.00160295853856951\n",
      "Epoch: 23, MSE Loss: 0.0017121325945481658\n",
      "Epoch: 24, MSE Loss: 0.0022058351896703243\n",
      "Epoch: 25, MSE Loss: 0.004654526710510254\n",
      "Epoch: 26, MSE Loss: 0.0016413304256275296\n",
      "Epoch: 27, MSE Loss: 0.003469794988632202\n",
      "Epoch: 28, MSE Loss: 0.0038145834114402533\n",
      "Epoch: 29, MSE Loss: 0.0017732165288180113\n"
     ]
    }
   ],
   "source": [
    "print(\"Training...\")\n",
    "print(f'Train data: {len(x_train)} - Test data: {len(x_test)}')\n",
    "#x_train, y_train = shuffle(x_train, y_train)\n",
    "model = train_model_to_embedding(dataloader, eeg_data, word_embeddings, 30, 1e-2)\n",
    "torch.save(model, 'eeg_2_embeddings_model_30.pth')"
   ]
  },
  {
   "cell_type": "markdown",
   "metadata": {},
   "source": [
    "##### Testing"
   ]
  },
  {
   "cell_type": "code",
   "execution_count": 4,
   "metadata": {},
   "outputs": [
    {
     "name": "stdout",
     "output_type": "stream",
     "text": [
      "Testing...\n",
      "['henry', 'ford', 'son', 'edsel', 'founded', 'foundation', 'local', 'philanthropic', 'organization', 'broad', 'charter', 'promote', 'human', 'success', 'left', 'edison', 'illuminating', 'formed', 'automobile', 'interest', 'race', 'second', 'company', 'period', 'personally', 'drove', 'quadricycle', 'victory', 'alexander', 'winton', 'well-known', 'driver', 'heavy', 'favorite', 'october', 'forced', 'investors', 'including', 'leland', 'reorganized', 'cadillac', 'became', 'engineer', 'promotion', 'chief', 'enough', 'money', 'devote', 'personal', 'experiments', 'internal', 'combustion', 'engines', 'culminated', 'completion', 'self-propelled', 'vehicle', 'test-drove', 'born', 'prosperous', 'farm', 'springwells', 'township', 'city', 'dearborn', 'michigan', 'parents', 'william', 'mary', 'litogot', 'immigrants', 'county', 'ireland', 'years', 'wars', 'supported', 'adolf', 'hitlers', 'nazi', 'regime', 'also', 'gave', 'hitler', 'direct', 'financial', 'backing', 'starting', 'statements', 'kurt', 'ludecke', 'germanys', 'representative', 'winifred', 'wagner', 'daughter-in-law', 'richard', 'requested', 'funds', 'aid', 'national', 'socialist', 'movement', 'although', 'credited', 'contemporary', 'sources', 'indicate', 'concept', 'development', 'employees', 'clarence', 'avery', 'peter', 'martin', 'charles', 'sorensen', 'advocated', 'long-time', 'associate', 'harry', 'bennett', 'take', 'edsels', 'widow', 'eleanor', 'inherited', 'voting', 'stock', 'wanted', 'position', 'home', 'detroit', 'work', 'apprentice', 'machinist', 'james', 'flower', 'rae', 'baldwin', 'iii', 'april', 'massapequa', 'long', 'island', 'new', 'york', 'usa', 'american', 'oldest', 'best', 'known', 'brothers', 'daniel', 'stephen', 'quarters', 'quarter', 'descent', 'movies', 'beetlejuice', 'ghosts', 'mississippi', 'radio', 'fantasy', 'spirits', 'within', 'cat', 'hat', 'harbor', 'thomas', 'railroad', 'came', 'spongebob', 'squarepants', 'movie', 'young', 'job', 'busboy', 'famous', 'disco', 'studio', 'actress', 'kim', 'democrat', 'always', 'frequently', 'rumored', 'candidate', 'particular', 'frequent', 'hosts', 'saturday', 'leading', 'show', 'eleven', 'making', 'cameo', 'regularly', 'played', 'barrett', 'travis', 'alamo', 'called', 'thirteen', 'days', 'began', 'narrating', 'version', 'childrens', 'series', 'tank', 'engine', 'friends', 'appearance', 'night', 'armstrong', 'scoutmaster', 'pedophile', 'puts', 'around', 'sandlers', 'rosemary', 'clooney', 'may', 'popular', 'singer', 'along', 'bing', 'crosby', 'danny', 'vera-ellen', 'white', 'clooneys', 'recordings', 'columbia', 'records', 'big', 'band', 'tony', 'pastor', 'married', 'ferrer', 'five', 'children', 'miguel', 'gabriel', 'debby', 'boone', 'dante', 'depaolo', 'betty', 'brother', 'nick', 'well', 'nephew', 'george', 'nicks', 'entertainers', 'sisters', 'spot', 'cincinnatis', 'station', 'wlw', 'maysville', 'kentucky', 'miles', 'river', 'cincinnati', 'ohio', 'andrew', 'joseph', 'frances', 'marie', 'guilfoyle', 'irish', 'rosemarys', 'paternal', 'great-grandparents', 'nicholas', 'bridget', 'byron', 'grandmother', 'crescentia', 'koch', 'number', 'mgm', 'finally', 'signed', 'rca', 'victor', 'stayed', 'except', 'reprise', 'went', 'shifting', 'year', 'dot', 'united', 'sang', 'duet', 'wild', 'man', 'hard', 'michael', 'mcmanus', 'february', 'syndicated', 'columnist', 'wrote', 'ethics', 'january', 'revealed', 'administration', 'marriage', 'initiative', 'program', 'disclose', 'timothy', 'assumed', 'bush', 'fairbanks', 'dedham', 'massachusetts', 'training', 'revolution', 'captain', 'soldiers', 'continental', 'springport', 'cayuga', 'rochester', 'died', 'blacksmith', 'descended', 'two', 'presidents', 'soldier', 'french', 'indian', 'great-great-great-great-great', 'grandfather', 'president', 'relocated', 'norwich', 'vermont', 'militia', 'puritan', 'preacher', 'church', 'discussion', 'bronx', 'eventually', 'winthrop', 'hutchinson', 'influence', 'strong', 'communitys', 'two-day', 'banished', 'heretic', 'led', 'settle', 'aquidneck', 'later', 'many', 'football', 'insiders', 'playoffs', 'nfl', 'playoff', 'broncos', 'mannings', 'passer', 'rating', 'colts', 'games', 'kansas', 'chiefs', 'perfect', 'coached', 'winston-salem', 'state', 'university', 'compiling', 'shared', 'honor', 'tennessee', 'titans', 'quarterback', 'steve', 'mcnair', 'however', 'posted', 'third', 'lowest', 'career', 'game', 'four', 'even', 'impressive', 'touchdowns', 'heisman', 'trophy', 'woodson', 'arch', 'rival', 'florida', 'fourth', 'consecutive', 'jacqueline', 'kennedy', 'greek', 'shipping', 'tycoon', 'aristotle', 'onassis', 'onassiss', 'death', 'john', 'accounts', 'play', 'particularly', 'significant', 'johns', 'bachelors', 'history', 'taylor', 'dual', 'british', 'citizenship', 'christian', 'vii', '1749–march', 'king', 'denmark', 'norway', 'duke', 'schleswig', 'holstein', 'frederick', 'first', 'consort', 'daughter', 'great', 'britain', 'ultimately', 'sank', 'condition', 'mental', 'patti', 'adela', 'juana', 'maria', 'italian', 'madrid', 'time', 'included', 'paranoia', 'self-mutilation', 'hallucinations', 'submissive', 'upstart', 'johann', 'struensee', 'rose', 'steadily', 'lonely', 'caroline', 'mathilde', 'drifted', 'affair', 'widely', 'believed', 'comparisons', 'arrested', 'executed', 'struensees', 'arrest', 'warrant', 'indifference', 'pressure', 'sophie', 'magdalene', 'brandenburg-kulmbach', 'dissolved', 'retaining', 'title', 'exile', 'passed', 'remaining', 'neighbouring', 'celle', 'cancer', 'franklin', 'schaffner', 'talia', 'shire', 'appeared', 'miss', 'sadie', 'thompson', 'opposite', 'rita', 'hayworth', 'caine', 'musical', 'deep', 'directed', 'cockleshell', 'heroes', 'followed', 'appear', 'return', 'peyton', 'place', 're-make', 'fair', 'ferrers', 'divorced', 'remarried', 'academy', 'portrayal', 'cyrano', 'bergerac', 'film', 'dartagnan', 'recurring', 'julia', 'insanely', 'wealthy', 'waspy', 'father', 'newhart', 'television', 'sitcom', 'memorable', 'elegant', 'flamboyant', 'attorney', 'reuben', 'marino', 'soap', 'another', 'world', 'early', 'actor', 'flew', 'lightning', 'african', 'campaign', 'november', 'australian', 'politician', 'advocate', 'use', 'punishment', 'educated', 'skipton', 'primary', 'school', 'ballarat', 'grammar', 'victorian', 'premier', 'education', 'dole', 'released', 'biography', 'one', 'memoir', 'talks', 'experiences', 'war', 'russell', 'soda', 'jerk', 'store', 'unsuccessfully', 'republican', 'presidential', 'nomination', 'then-vice', 'contest', 'bitter', 'differed', 'newscaster', 'conducting', 'conversation', 'asked', 'anything', 'say', 'senate', 'served', 'chairman', 'committee', 'studied', 'studies', 'interrupted', 'start', 'english', 'december', 'jazz', 'trumpeter', 'three', 'short', 'commentator', 'clinton', 'cbss', 'guest-starred', 'nbcs', 'brooke', 'suddenly', 'susan', 'losing', 'election', 'desire', 'wealth', 'grows', 'discard', 'spiritual', 'creative', 'values', 'greed', 'leads', 'distrust', 'dishonesty', 'society', 'crumbles', 'law', 'decay', 'noted', 'population', 'centers', 'emerged', 'west', 'trade', 'shifted', 'constantinople', 'venice', 'amsterdam', 'predicted', 'americas', 'economic', 'would', 'become', 'center', 'multiple', 'strokes', 'tarzana', 'california', 'coppola', 'arturo', 'toscanini', 'nbc', 'symphony', 'actors', 'ethel', 'barrymore', 'drew', 'dolores', 'mae', 'pregnant', 'proposed', 'intervened', 'arranged', 'still-teenaged', 'evelyn', 'undergo', 'operation', 'appendicitis', 'murdered', 'nesbits', 'vengeful', 'pittsburgh', 'millionaire', 'thaw', 'dying', 'die', 'dear', 'fellow', 'allow', 'conventional', 'happen', 'according', 'errol', 'flynns', 'memoirs', 'director', 'raoul', 'walsh', 'borrowed', 'barrymores', 'body', 'funeral', 'corpse', 'propped', 'chair', 'drunken', 'flynn', 'discover', 'returned', 'cock', 'classic', 'hollywood', 'substitute', 'lorre', 'notable', 'reverend', 'smith', 'harriet', 'whipple', 'wife', 'clampett', 'mickey', 'mouse', 'dolls', 'walt', 'researcher', 'reporter', 'thames', 'passage', 'ship', 'retrieve', 'family', 'aboard', 'given', 'african-american', 'bandleader', 'composer', 'created', 'animated', 'beany', 'cecil', 'ran', 'abc', 'due', 'difficulties', 'placing', 'longs', 'locomotive', 'designs', 'production', 'commissioned', 'lieutenant', 'engineers', 'states', 'martha', 'hodgkins', 'philadelphia', 'pennsylvania', 'following', 'month', 'brevet', 'major', 'army', 'appointed', 'lead', 'expedition', 'areas', 'acquired', 'louisiana', 'purchase', 'purpose', 'voyage', 'find', 'platte', 'arkansas', 'rivers', 'summer', 'joined', 'explorer', 'giacomo', 'beltrami', 'well-meaning', 'patient', 'homer', 'physical', 'feature', 'blue', 'hair', 'styled', 'improbably', 'high', 'mentioned', 'actually', 'dyes', 'gray', 'mule', 'seventeen', 'exceptions', 'spends', 'tending', 'housework', 'minding', 'maggie', 'supportive', 'lisa', 'either', 'disciplining', 'bart', 'defending', 'homers', 'margaret', 'marge', 'groening', 'mother', 'matt', 'creator', 'former', 'attendant', 'steward', 'deceased', 'occurred', 'explained', 'disapproving', 'rarely', 'bouvier', 'course', 'smoke', 'gruff', 'sarcastic', 'snarky', 'demeanours', 'members', 'approves', 'marges', 'behaviour', 'often', 'oafish', 'clumsy', 'insensitive', 'still', 'remains', 'lovable', 'possible', 'template', 'bumbling', 'albeit', 'tavern', 'barney', 'lenny', 'bartender', 'moe', 'rage', 'issues', 'violently', 'abusive', 'towards', 'strangled', 'struck', 'numerous', 'months', 'killed', 'german', 'old', 'claimed', 'likely', 'fallaciously', 'age', 'repeatedly', 'abandoned', 'cremated', 'ashes', 'interred', 'eden', 'cemetery', 'angeles', 'aged', 'longest-lived', 'marx', 'younger', 'survived', 'groucho', 'best-known', 'modern', 'brazilian', 'writers', 'languages', 'popularized', 'dona', 'flor', 'husbands', 'book', 'carnaval', 'pierce', 'named', 'maternal', 'banker', 'boston', 'democratic', 'publicly', 'traded', 'insurance', 'exchange', 'coltrane', 'experienced', 'deaths', 'close-knit', 'family;', 'lost', 'music', 'practicing', 'reshaped', 'generations', 'away', 'liver', 'disease', 'hills', 'jon', 'nba', 'courage', 'determination', 'defense', 'sharp', 'point', 'accurate', 'throw', 'johnny', 'goode', 'shortly', 'afterwards', 'gifford', '2nd', 'battalion', 'foot', 'awarded', 'victoria', 'arlington', 'wright', 'poet', 'graduated', 'practiced', 'moved', 'rosenman', 'colin', 'petschek', 'freund', 'cbs', 'client', 'arista', 'extensive', 'sometimes', 'avant-garde', 'musicians', 'reissues', 'savoy', 'conduit', 'contracting', 'alliance', 'england', 'treaty', 'pyrenees', 'portugal', 'arguably', 'restoration', 'portuguese', 'independence', 'accession', 'throne', 'catherine', 'engaged', 'portsmouth', 'dowry', 'brought', 'tangier', 'bombay', 'control', 'choice', 'roman', 'catholic', 'religion', 'prevented', 'part', 'anglican', 'reputation', 'womaniser', 'never', 'heir', 'pregnancies', 'last', 'difficult', 'continued', 'mistresses', 'refused', 'remained', 'reign', 'lisbon', 'erasmus', 'darwin', 'introduced', 'made', 'fashionable', 'drinking', 'queens', 'dent', 'grant', 'buck', 'ellen', 'jesse', 'hamer', 'erroneously', 'nominated', 'ulysses', 'simpson', 'protested', 'change', 'resist', 'bureaucracy', 'graduation', 'form', 'middle', 'initial', 'ranking', 'class', 'established', 'fearless', 'expert', 'horseman', 'drank', 'distilled', 'smoking', 'numbers', 'cigars', 'smoked', 'contributed', 'throat', 'life', 'tanner', 'member', 'prominent', 'liberalism', 'youngest', 'person', 'elected', 'country', 'published', 'profiles', 'highlighting', 'eight', 'instances', 'senators', 'careers', 'honorably', 'discharged', 'japanese', 'surrendered', 'reelected', 'twice', 'mixed', 'diverging', 'accepted', 'september', 'reagan', 'outspoken', 'goldwater', 'laughed', 'autobiography', 'countless', 'sleepless', 'immigrated', 'ballyporeen', 'prior', 'immigration', 'name', 'regan', 'great-grandfather', 'paisley', 'scotland', 'marked', 'dubbed', 'reaganomics', 'confrontational', 'foreign', 'union', 'movements', 'tried', 'overseas', 'combat', 'turned', 'landslide', 'defeating', 'carters', 'vice', 'walter', 'mondale', 'receiving', 'percent', 'storytelling', 'announcer', 'affiliate', 'chicago', 'getting', 'bare', 'outlines', 'ticker', 'relying', 'imagination', 'ninth', 'cubs-st', 'louis', 'cardinals', 'improvised', 'fictional', 'play-by-play', 'hitters', 'teams', 'fouled', 'pitches', 'restored', 'sla', 'kidnapped', 'patty', 'hearst', 'berkeley', 'list', 'demands', 'free', 'distribution', 'food', 'poor', 'suggested', 'outbreak', 'botulism', 'hodgkin', 'huxley', 'prize', 'carew', 'eccles', 'cited', 'huxleys', 'pair', 'hypothesize', 'channels', 'confirmed', 'team', 'all-american', 'junior', 'senior', 'journalist', 'niece', 'klaas', 'finished', 'washington', 'ten', 'goals', 'jose', 'earthquakes', 'round', 'mls', 'superdraft', 'opted', 'sounders', 'critical', 'lifetime', 'considered', 'important', 'authors', 'kerouacs', 'spontaneous', 'confessional', 'language', 'style', 'robbins', 'brautigan', 'kesey', 'dylan', 'town', 'leo-alcide', 'kerouac', 'gabrielle-ange', 'lévesque', 'natives', 'province', 'quebecers', 'generation', 'lévesques', 'employment', 'learn', 'spoke', 'fitzgerald', 'mayor', 'probably', 'recognized', 'profoundly', 'gérard', 'prompting', 'visions', 'gerard', 'eagles', 'tigers', 'canadian-american', 'league', 'roles', 'screen', 'contribution', 'industry', 'naish', 'star', 'fame', 'finding', 'london', 'deborah', 'rodgers', 'proved', 'regrettable', 'fate', 'unknown', 'bigamy', 'offense', 'punishable', 'public', 'imprisonment', 'remarry', 'arrived', 'worked', 'several', 'printer', 'satisfied', 'immediate', 'barbara', 'weeks', 'jackson', 'help', 'merchant', 'denham', 'shopkeeper', 'bookkeeper', 'denhams', 'cgs', 'unit', 'electric', 'charge', 'statcoulomb', 'abiah', 'folger', 'nantucket', 'schoolteacher', 'morrill', 'indentured', 'josiah', 'june', 'perhaps', 'responsibility', 'child', 'reason', 'residence', 'read', 'tallow', 'chandler', 'maker', 'candles', 'courant', 'printing', 'pseudonym', 'silence', 'dogood', 'ostensibly', 'middle-aged', 'courants', 'readers', 'initially', 'author', 'impressed', 'discovered', 'correspondent', 'apprenticeship', 'permission', 'private', 'pacific', 'theater', 'end', 'general', 'macarthurs', 'intelligence', 'developed', 'politics', 'special', 'admiration', 'winston', 'churchill', 'cite', 'pentagon', 'magazine', 'next', 'decade', 'security', 'fighting', 'peace', 'weinberger', 'co-authored', 'questions', 'adequacy', 'capabilities', 'colleages', 'contact', 'poughkeepsie', 'heart', 'chiefly', 'rinker', 'leader', 'adalet', 'kalkinma', 'partisi', 'erdoğan', 'semi-professional', 'istanbuls', 'transport', 'active', 'now-defunct', 'islamist', 'salvation', 'party', 'erbakan', 'acting', 'playing', 'recorded', 'desireless', 'scandinavia', 'rest', 'europe', 'interests', 'using', '46th', 'cheney', 'assistant', 'fords', 'police', 'similar', 'maintained', 'department', 'shows', 'dwi', 'conviction', 'authorities', 'area', 'link', 'convictions', 'resulted', 'offence', 'viewed', 'seriously', 'wyoming', 'ancestors', 'ralph', 'quesnay', 'hastings', 'represent', 'representatives', 'replace', 'roncalio', 'resigned', 'march', 'homeland', 'nearby', 'shrewsbury', 'boarder', 'got', 'degree', 'currently', 'works', 'departments', 'near', 'east', 'affairs', 'bureau', 'fathers', 'top', 'aides', 'confidantes', 'lives', 'denver', 'colorado', 'decided', 'semesters', 'difficulty', 'books', 'endowment', 'humanities', 'co-host', 'cnns', 'studying', 'speaker', 'enterprise', 'institute', 'political', 'science', 'staff', 'lewis', 'libby', 'main', 'figures', 'investigation', 'indicted', 'felony', 'secretary', 'undersecretary', 'deputy', 'advisor', 'resignation', 'confirmation', 'vote', 'reportedly', 'hard-line', 'policies', 'heslov', 'collaborator', 'co-wrote', 'good', 'steven', 'soderberghs', 'cancelled', 'handyman', 'confessions', 'dangerous', 'mind', 'adaptation', 'implausible', 'groundbreaking', 'producer', 'barris', 'admitted', 'terrifying', 'experience', 'performed', 'horses', 'news', 'lawford', 'acclaim', 'dance', 'victim', 'severely', 'arm', 'glass', 'save', 'injury', 'drafted', 'forces', 'role', 'snobby', 'bully', 'picture', 'smash', 'lawfords', 'performance', 'page', 'live', 'albums', 'label', 'late', '1970s;', 'release', 'watch', 'sucker', 'titled', 'aunt', 'esthers', 'catchphrase', 'newfound', 'howard', 'college', 'player', 'alabama', 'teammate', 'legendary', 'coach', 'bear', 'bryant', 'clemson', 'hall', 'south', 'sports', 'ring', 'barlow', 'bend', 'wagon', 'greasins', 'mobile', 'century', 'office', 'serving', 'example', 'ability', 'nonmilitary', 'power', 'improve', 'creation', 'corps', 'acts', 'risked', 'standing', 'decorations', 'include', 'purple', 'asiatic-pacific', 'medal', 'nation', 'closely', 'involvement', 'displaced', 'persons', 'bill', 'bring', 'together', 'entered', 'void', 'pinned', 'vacated', 'seat', 'overwhelmingly', 'district', 'large', 'truman', 'volunteered', 'rejected', 'troublesome', 'navy', 'participated', 'various', 'rank', 'commanding', 'torpedo', 'birkhoff', 'mathematician', 'overisel', 'inaugural', 'bôcher', 'mathematical', 'garrett', 'webster', 'dexter', 'hampton', 'jackie', 'mclean', 'tina', 'educator', 'teaching', 'workshop', 'jeb', 'forty-third', 'current', 'governor', 'entry', 'international', 'division', 'commerce', 'miami-dade', 'took', 'real', 'armando', 'codina', '32-year-old', 'cuban', 'immigrant', 'self-made', 'co-founded', 'grades', 'elementary', 'situated', 'located', 'miami', 'plagued', 'working', 'alongside', 'partner', 'williard', 'black', 'activist', 'urban', 'buddy', 'mackay', 'courting', 'moderate', 'hispanics', 'enrolled', 'phillips', 'protestant', 'attended', 'phi', 'kappa', 'excellent', 'delivers', 'speeches', 'spanish', 'residents', 'grown', 'noelle', 'venezuelan', 'capital', 'caracas', 'open', 'six', 'houston', 'summers', 'holidays', 'estate', 'compound', 'student', 'motorcycle', 'columba', 'garnica', 'gallo', 'midland', 'running', 'welfare', 'attention', 'owned', 'cork', 'evidence', 'traced', 'said', 'idea', 'wills', 'cooler', 'hunt', 'red', 'talk', 'magic', 'aviator', 'basinger', 'liberal', 'appearances', 'infamous', 'potrays', 'rips', 'adam', 'neck', 'kaye', 'starred', 'christmas', 'singers', 'coral', 'toward', 'artists', 'fischer', 'business', 'broke', 'group', 'among', 'trial', 'followers', 'rhode', 'criticized', 'manning', 'record', 'patriots', 'throwing', 'interceptions', 'put', 'season', 'yards', 'michigans', 'unable', 'beat', 'louisa', 'spain', 'symptoms', 'friedrich', 'louise', 'mutiny', 'award', 'duffys', 'opera', 'jack', 'davenport', 'north', 'bob', 'story', 'battle', 'survive', 'injuries', 'odd-jobs', 'serious', 'little', 'minutes', 'shields', 'civilisation', 'adams', 'supremacy', 'lung', 'orchestra', 'lionel', 'husband', 'words', 'thing', 'bull', 'bar', 'tale', 'sanford', 'priscilla', 'seven', 'designed', 'toiling', 'specific', 'beehive', 'since', 'simpsons', 'flight', 'seen', 'heavily', 'voices', 'dads', 'moes', 'lifelong', 'carl', 'physically', 'occasions', 'sniper', 'met', 'contract', 'memorial', 'mission', 'though', 'zeppo', 'translated', 'notably', 'país', 'marvin', 'neil', 'dorothy', 'hcc', 'seventh-grade', 'obsessively', 'prime', 'influenced', 'dix', 'clutch', 'shooter', 'nickname', 'retired', '24th', 'ashanti', 'deed', 'cross', 'small', 'firm', 'folded', 'freedom', 'imprint', 'concentrating', 'praised', 'useful', 'france', 'queen', 'ever', 'crowned', 'could', 'service', 'despite', 'charless', 'insisted', 'treated', 'divorce', 'joint', 'laurance', 'extensively', 'custom', 'tea', 'loved', 'people', 'borough', 'nellie', 'root', 'upon', 'adopted', 'acknowledging', 'stood', '21st', 'icon', 'beliefs', 'supporter', 'conservative', 'barry', 'requests', 'says', 'nights', 'tipperary', 'spelled', 'wilson', 'presidency', 'soviet', 'duty', 'astigmatism', 'winning', 'nearly', 'cubs', 'baseball', 'gifts', 'flesh', 'inning', 'wire', 'smoothly', 'left-wing', 'terrorists', 'research', 'synapses', 'findings', 'decades', 'seasons', 'schwarzenegger', 'shriver', 'scoring', 'assists', 'san', 'camp', 'instead', 'signing', 'enjoying', 'inspired', 'hunter', 'writing', 'earned', 'respect', 'writer', 'quebec', 'canada', 'emigration', 'didnt', 'hockey', 'besides', 'carrol', 'walk', 'whipping', 'shops', 'clerk', 'equal', 'august', 'miller', 'sometime', 'half', 'franklins', 'massachusetts;', 'ann', 'soon', 'identity', 'williams', 'infant', 'schooling', 'ended', 'know', 'without', 'fugitive', 'douglas', 'publisher', 'forbes', 'account', 'years;', 'entitled', 'raised', 'military', 'diabetes', 'mildred', 'sister', 'whiteman', 'justice', 'municipal', 'necmettin', 'hit', 'skills', 'assisting', 'moseley', 'x-ray', 'diffraction', 'gerald', 'house', 'manager', 'baker', 'card', 'haunted', 'rock', 'springs', 'fined', 'chesney', 'sire', 'fought', 'side', 'conqueror', 'teno', 'counsel', 'tulane', 'closest', 'authored', 'articles', 'ronald', 'monroe', 'received', 'masters', 'cheneys', 'health', 'nixon', 'carlucci', 'less', 'naval', 'officer', '1952-54', 'befriended', 'close', 'section', 'entertainment', 'facts', 'debut', 'chuck', 'comedy', 'greatest', 'sing', 'held', 'injured', 'doors', 'pane', 'doctors', 'bothered', 'kept', 'armed', 'yank', 'eton', 'laff', 'cash', 'career-ending', 'head', 'inducted', 'carolina', 'referred', '35th', '20th', 'belief', 'pulitzer', 'kennedys', 'edition', 'families', 'partly', 'hopes', 'curley', 'beating', 'opponent', 'margin', 'spring', 'mainly', 'back', 'commands', 'patrol', 'boat', 'david', 'leaders', 'lyrical', 'columbia;', 'ellis', 'earning', 'level', 'texas', 'ben', 'liberty', 'k-6', 'dade', 'outside', 'greater', 'poverty', 'co-founder', 'voters', 'andover', 'boarding', 'already', 'urging', 'devout', 'mexican', 'austin', 'beta', 'taking', 'complete', 'obtaining', 'generally', 'speaking', 'recently', 'sent', 'bank', 'spent', 'leon', 'mexico', 'schools', 'attending', 'drilling', 'final', 'voice', 'times', 'shirt', 'neglected', 'burial', 'shes', 'range', 'borderers', 'birth', 'started', 'elder', 'cold', 'paul', 'selâmet', 'perrys', 'yale', 'sexual', 'childhood', 'frank', 'serve', 'gordon', 'turner', 'liquor', 'lived', 'hawes', 'theory', 'america']\n",
      "Init faiss index - Total: 2006\n",
      "--\n",
      "Count: 11373\n",
      "Success count: 11\n",
      "Accuracy: 0.0009672030247076409\n"
     ]
    }
   ],
   "source": [
    "from sklearn.utils import shuffle\n",
    "print(\"Testing...\")\n",
    "#model = torch.load(\"eeg_2_embeddings_model_50.pth\")\n",
    "from utils.EEGToEmbeddingModel import *\n",
    "unique_labels_embeddings, unique_labels = get_unique_labels_embedddings(y_test, word_embeddings_test)\n",
    "print(unique_labels)\n",
    "\n",
    "eval_model_as_classifier(model, x_test, y_test, unique_labels_embeddings, unique_labels)"
   ]
  }
 ],
 "metadata": {
  "kernelspec": {
   "display_name": "venv",
   "language": "python",
   "name": "python3"
  },
  "language_info": {
   "codemirror_mode": {
    "name": "ipython",
    "version": 3
   },
   "file_extension": ".py",
   "mimetype": "text/x-python",
   "name": "python",
   "nbconvert_exporter": "python",
   "pygments_lexer": "ipython3",
   "version": "3.10.12"
  }
 },
 "nbformat": 4,
 "nbformat_minor": 2
}
